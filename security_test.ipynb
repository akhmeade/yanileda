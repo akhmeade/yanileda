{
 "cells": [
  {
   "cell_type": "code",
   "execution_count": null,
   "metadata": {},
   "outputs": [],
   "source": [
    "from magic_const import SecurityAlgorithm\n",
    "from magic_const import KeyType\n",
    "\n",
    "from model.security_model import SecurityModel\n",
    "security = SecurityModel()\n",
    "import magic_const\n",
    "\n",
    "import logging\n",
    "\n",
    "\n",
    "logging.basicConfig(**magic_const.LOGGING_CONFIG)\n",
    "logger = logging.getLogger(__name__)"
   ]
  },
  {
   "cell_type": "code",
   "execution_count": null,
   "metadata": {},
   "outputs": [],
   "source": [
    "alg = SecurityAlgorithm.aes"
   ]
  },
  {
   "cell_type": "code",
   "execution_count": null,
   "metadata": {
    "scrolled": true
   },
   "outputs": [],
   "source": [
    "# from_path = \"trash/hello.txt\"\n",
    "# to_path = \"trash/hello_2.txt\"\n",
    "\n",
    "# data = (alg, KeyType.new_media, \"abcdefg\", \"trash/a.jpg\")\n",
    "# security.encrypt(from_path, to_path, data)"
   ]
  },
  {
   "cell_type": "code",
   "execution_count": null,
   "metadata": {},
   "outputs": [],
   "source": [
    "from_path = \"trash/hello_2.txt\"\n",
    "to_path = \"trash/hello_3.txt\"\n",
    "\n",
    "data = (alg, KeyType.existing_media, \"\", \"trash/output.png\")\n",
    "security.decrypt(from_path, to_path, data)"
   ]
  },
  {
   "cell_type": "code",
   "execution_count": null,
   "metadata": {},
   "outputs": [],
   "source": [
    "import os\n",
    "from cryptography.hazmat.primitives.ciphers import Cipher, algorithms, modes\n",
    "from cryptography.hazmat.backends import default_backend\n",
    "backend = default_backend()\n",
    "key = os.urandom(32)\n",
    "iv = os.urandom(16)\n",
    "cipher = Cipher(algorithms.AES(key), modes.CBC(iv), backend=backend)\n",
    "encryptor = cipher.encryptor()\n",
    "ct = encryptor.update(b\"a secret message\")\n",
    "decryptor = cipher.decryptor()\n",
    "decryptor.update(ct)"
   ]
  }
 ],
 "metadata": {
  "kernelspec": {
   "display_name": "Python 3",
   "language": "python",
   "name": "python3"
  },
  "language_info": {
   "codemirror_mode": {
    "name": "ipython",
    "version": 3
   },
   "file_extension": ".py",
   "mimetype": "text/x-python",
   "name": "python",
   "nbconvert_exporter": "python",
   "pygments_lexer": "ipython3",
   "version": "3.7.7"
  }
 },
 "nbformat": 4,
 "nbformat_minor": 4
}
